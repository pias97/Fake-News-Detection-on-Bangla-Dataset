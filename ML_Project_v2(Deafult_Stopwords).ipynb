{
  "nbformat": 4,
  "nbformat_minor": 0,
  "metadata": {
    "colab": {
      "name": "ML_Project_v2(Deafult Stopwords).ipynb",
      "provenance": [],
      "collapsed_sections": [
        "gGl5GhynFL3Q",
        "6Uq8UdV5E6ih",
        "SKpBJU-IIuBY",
        "h7ilHHdXLWsz",
        "z3zZMXATMSQ-",
        "gjPH35mVM0JT",
        "zi2-OSIiNemF"
      ],
      "authorship_tag": "ABX9TyO/pNWUY5S7IcH/8GgNaHwN",
      "include_colab_link": true
    },
    "kernelspec": {
      "name": "python3",
      "display_name": "Python 3"
    },
    "language_info": {
      "name": "python"
    }
  },
  "cells": [
    {
      "cell_type": "markdown",
      "metadata": {
        "id": "view-in-github",
        "colab_type": "text"
      },
      "source": [
        "<a href=\"https://colab.research.google.com/github/pias97/Fake-News-Detection-on-Bangla-Dataset/blob/main/ML_Project_v2(Deafult_Stopwords).ipynb\" target=\"_parent\"><img src=\"https://colab.research.google.com/assets/colab-badge.svg\" alt=\"Open In Colab\"/></a>"
      ]
    },
    {
      "cell_type": "markdown",
      "metadata": {
        "id": "gGl5GhynFL3Q"
      },
      "source": [
        "#Bangla Fonts & Libraries"
      ]
    },
    {
      "cell_type": "code",
      "metadata": {
        "id": "4owPtM3HFDLv"
      },
      "source": [
        "pip install bnlp_toolkit"
      ],
      "execution_count": null,
      "outputs": []
    },
    {
      "cell_type": "code",
      "metadata": {
        "id": "5S-AOP5CFd0v"
      },
      "source": [
        "import re\n",
        "from bnlp.corpus import stopwords, punctuations "
      ],
      "execution_count": null,
      "outputs": []
    },
    {
      "cell_type": "code",
      "metadata": {
        "id": "klxwb5j3FwdQ"
      },
      "source": [
        "!wget https://www.omicronlab.com/download/fonts/kalpurush.ttf"
      ],
      "execution_count": null,
      "outputs": []
    },
    {
      "cell_type": "code",
      "metadata": {
        "id": "zB4TBjpdF0AS"
      },
      "source": [
        "!wget https://www.omicronlab.com/download/fonts/Siyamrupali.ttf"
      ],
      "execution_count": null,
      "outputs": []
    },
    {
      "cell_type": "markdown",
      "metadata": {
        "id": "6Uq8UdV5E6ih"
      },
      "source": [
        "#Importing Libraries"
      ]
    },
    {
      "cell_type": "code",
      "metadata": {
        "id": "aoWOPMflE-lD"
      },
      "source": [
        "#Libraries\n",
        "import pandas as pd\n",
        "import matplotlib.pyplot as plt\n",
        "%matplotlib inline\n",
        "import seaborn as sns\n",
        "import numpy as np\n",
        "from wordcloud import WordCloud\n",
        "import itertools\n",
        "\n",
        "  \n",
        "#Feature extraction and splitting\n",
        "from sklearn.model_selection import train_test_split\n",
        "from sklearn.feature_extraction.text import TfidfVectorizer\n",
        "\n",
        "\n",
        "#Model\n",
        "from sklearn import naive_bayes\n",
        "from sklearn.svm import SVC\n",
        "\n",
        "#Evaluation\n",
        "from sklearn.model_selection import KFold\n",
        "from sklearn.model_selection import cross_val_score\n",
        "from sklearn import metrics\n",
        "from sklearn.metrics import accuracy_score, f1_score\n"
      ],
      "execution_count": null,
      "outputs": []
    },
    {
      "cell_type": "markdown",
      "metadata": {
        "id": "w6bqjertWZ-Y"
      },
      "source": [
        "**Confusion Matrix Library**"
      ]
    },
    {
      "cell_type": "code",
      "metadata": {
        "id": "mkt2sNc9WdNf"
      },
      "source": [
        "def plot_confusion_matrix(cm, classes, extention,\n",
        "                          normalize=False,\n",
        "                          title='Confusion matrix',\n",
        "                          cmap=plt.cm.Blues):\n",
        "    plt.imshow(cm, interpolation='nearest', cmap=cmap)\n",
        "    plt.title(title +\" \"+ extention)\n",
        "    plt.colorbar()\n",
        "    tick_marks = np.arange(len(classes))\n",
        "    plt.xticks(tick_marks, classes, rotation=45)\n",
        "    plt.yticks(tick_marks, classes)\n",
        "\n",
        "    if normalize:\n",
        "        cm = cm.astype('float') / cm.sum(axis=1)[:, np.newaxis]\n",
        "        print(\"Normalized confusion matrix\")\n",
        "    else:\n",
        "        print('Confusion matrix, without normalization')\n",
        "\n",
        "    thresh = cm.max() / 2.\n",
        "    for i, j in itertools.product(range(cm.shape[0]), range(cm.shape[1])):\n",
        "        plt.text(j, i, cm[i, j],\n",
        "                 horizontalalignment=\"center\",\n",
        "                 color=\"white\" if cm[i, j] > thresh else \"black\")\n",
        "\n",
        "    plt.tight_layout()\n",
        "    plt.ylabel('True label')\n",
        "    plt.xlabel('Predicted label')"
      ],
      "execution_count": null,
      "outputs": []
    },
    {
      "cell_type": "markdown",
      "metadata": {
        "id": "SKpBJU-IIuBY"
      },
      "source": [
        "#Dataset Loading"
      ]
    },
    {
      "cell_type": "code",
      "metadata": {
        "colab": {
          "base_uri": "https://localhost:8080/",
          "height": 930
        },
        "id": "KHHhHPxmIs8q",
        "outputId": "069cdeba-f569-4753-a08f-f5879cc20abf"
      },
      "source": [
        "data = pd.read_excel(\"/content/FinalData1.xlsx\")\n",
        "data.head(10)"
      ],
      "execution_count": null,
      "outputs": [
        {
          "output_type": "execute_result",
          "data": {
            "text/html": [
              "<div>\n",
              "<style scoped>\n",
              "    .dataframe tbody tr th:only-of-type {\n",
              "        vertical-align: middle;\n",
              "    }\n",
              "\n",
              "    .dataframe tbody tr th {\n",
              "        vertical-align: top;\n",
              "    }\n",
              "\n",
              "    .dataframe thead th {\n",
              "        text-align: right;\n",
              "    }\n",
              "</style>\n",
              "<table border=\"1\" class=\"dataframe\">\n",
              "  <thead>\n",
              "    <tr style=\"text-align: right;\">\n",
              "      <th></th>\n",
              "      <th>Title</th>\n",
              "      <th>Statement</th>\n",
              "      <th>Category</th>\n",
              "      <th>Source</th>\n",
              "      <th>Date</th>\n",
              "      <th>Class</th>\n",
              "    </tr>\n",
              "  </thead>\n",
              "  <tbody>\n",
              "    <tr>\n",
              "      <th>0</th>\n",
              "      <td>এক দিনে করোনায় মৃত্যু ১৫ জনের, নতুন শনাক্ত ২৬৬</td>\n",
              "      <td>\\n\\nদেশে করোনাভাইরাসে আক্রান্ত হয়ে গত ২৪ ঘণ্টা...</td>\n",
              "      <td>বাংলাদেশ সংবাদ</td>\n",
              "      <td>https://www.prothomalo.com/bangladesh/article/...</td>\n",
              "      <td>\\n১৭ এপ্রিল ২০২০, ১৪:৪১\\n\\n\\t\\t\\t\\t\\t\\t\\tআপডেট...</td>\n",
              "      <td>Real</td>\n",
              "    </tr>\n",
              "    <tr>\n",
              "      <th>1</th>\n",
              "      <td>কোভিড-১৯-এর কাছে মানবজাতি হেরে গেল কেন?</td>\n",
              "      <td>\\n\\nদ্বিতীয় বিশ্বযুদ্ধের পর থেকে বিশ্বের প্রভু...</td>\n",
              "      <td>অন্য আলো সংবাদ</td>\n",
              "      <td>https://www.prothomalo.com/bangladesh/article/...</td>\n",
              "      <td>\\n১৭ এপ্রিল ২০২০, ১৪:৩৯\\n\\n\\t\\t\\t\\t\\t\\t\\tআপডেট...</td>\n",
              "      <td>Real</td>\n",
              "    </tr>\n",
              "    <tr>\n",
              "      <th>2</th>\n",
              "      <td>সত্যিকারের ম্যাজিক!</td>\n",
              "      <td>\\n\\nবাড়ির পাশেই ভিক্টোরিয়া পার্ক, বিকেল হলেই স...</td>\n",
              "      <td>অন্য আলো সংবাদ</td>\n",
              "      <td>https://www.prothomalo.com/bangladesh/article/...</td>\n",
              "      <td>\\n১৭ এপ্রিল ২০২০, ১৪:৩৭\\n\\n\\t\\t\\t\\t\\t\\t\\tআপডেট...</td>\n",
              "      <td>Real</td>\n",
              "    </tr>\n",
              "    <tr>\n",
              "      <th>3</th>\n",
              "      <td>এই সঙ্গনিরোধকালে</td>\n",
              "      <td>\\n\\nবাইরে বেরোচ্ছি না বেশ কিছুদিন ধরে। বলা ভাল...</td>\n",
              "      <td>অন্য আলো সংবাদ</td>\n",
              "      <td>https://www.prothomalo.com/bangladesh/article/...</td>\n",
              "      <td>\\n১৭ এপ্রিল ২০২০, ১৪:৩০\\n\\n\\t\\t\\t\\t\\t\\t\\tআপডেট...</td>\n",
              "      <td>Real</td>\n",
              "    </tr>\n",
              "    <tr>\n",
              "      <th>4</th>\n",
              "      <td>কী করছেন ঘরবন্দী লেখকেরা</td>\n",
              "      <td>\\n\\nসবার মতো লেখকেরাও এখন ঘরবন্দী। লেখকদের এই ...</td>\n",
              "      <td>অন্য আলো সংবাদ</td>\n",
              "      <td>https://www.prothomalo.com/bangladesh/article/...</td>\n",
              "      <td>\\n১৭ এপ্রিল ২০২০, ১৪:২৩\\n\\n\\t\\t\\t\\t\\t\\t\\tআপডেট...</td>\n",
              "      <td>Real</td>\n",
              "    </tr>\n",
              "    <tr>\n",
              "      <th>5</th>\n",
              "      <td>স্বাস্থ্যব্যবস্থা নতুন করে সাজানোর বিকল্প নেই</td>\n",
              "      <td>\\n\\nদুনিয়া কাঁপানো গত ১০০ দিনে সারা বিশ্বের জন...</td>\n",
              "      <td>মতামত সংবাদ</td>\n",
              "      <td>https://www.prothomalo.com/bangladesh/article/...</td>\n",
              "      <td>\\n১৭ এপ্রিল ২০২০, ১৪:১১\\n\\n\\t\\t\\t\\t\\t\\t\\tআপডেট...</td>\n",
              "      <td>Real</td>\n",
              "    </tr>\n",
              "    <tr>\n",
              "      <th>6</th>\n",
              "      <td>করোনায় পরিবারকে সবচেয়ে বড় ‘উপহারটি’ দিন</td>\n",
              "      <td>\\n\\nকরোনাভাইরাস সংক্রমণে বিশ্ব স্থবির হয়ে পড়ায়...</td>\n",
              "      <td>খেলা সংবাদ</td>\n",
              "      <td>https://www.prothomalo.com/bangladesh/article/...</td>\n",
              "      <td>\\n১৭ এপ্রিল ২০২০, ১৪:৪৫\\n\\n\\t\\t\\t\\t\\t\\t\\tআপডেট...</td>\n",
              "      <td>Real</td>\n",
              "    </tr>\n",
              "    <tr>\n",
              "      <th>7</th>\n",
              "      <td>তরুণদের জন্য ‘অ্যাক্ট কোভিড-১৯’ অনলাইন হ্যাকাথন</td>\n",
              "      <td>\\n\\nকোভিড-১৯ পরিস্থিতি মোকাবিলায় সরকারের তথ্য ...</td>\n",
              "      <td>বিজ্ঞান ও প্রযুক্তি সংবাদ</td>\n",
              "      <td>https://www.prothomalo.com/bangladesh/article/...</td>\n",
              "      <td>\\n১৭ এপ্রিল ২০২০, ১৩:৫৫\\n\\n\\t\\t\\t\\t\\t\\t\\tআপডেট...</td>\n",
              "      <td>Real</td>\n",
              "    </tr>\n",
              "    <tr>\n",
              "      <th>8</th>\n",
              "      <td>বিশেষ চাহিদাসম্পন্ন সন্তান ও অভিভাবকদের ভোগান্...</td>\n",
              "      <td>\\n\\nকরোনাভাইরাসের বিস্তারের এই সময়ে অটিস্টিক, ...</td>\n",
              "      <td>বাংলাদেশ সংবাদ</td>\n",
              "      <td>https://www.prothomalo.com/bangladesh/article/...</td>\n",
              "      <td>\\n১৭ এপ্রিল ২০২০, ১৩:৪৩\\n\\n\\t\\t\\t\\t\\t\\t\\tআপডেট...</td>\n",
              "      <td>Real</td>\n",
              "    </tr>\n",
              "    <tr>\n",
              "      <th>9</th>\n",
              "      <td>অভিযোগ শুনতে সীতাকুণ্ড থানায় অভিনব ব্যবস্থা</td>\n",
              "      <td>\\n\\nথানার মূল ফটকের একপাশে হেল্প ডেক্সের একটি ...</td>\n",
              "      <td>বাংলাদেশ সংবাদ</td>\n",
              "      <td>https://www.prothomalo.com/bangladesh/article/...</td>\n",
              "      <td>\\n১৭ এপ্রিল ২০২০, ১৩:৩৯\\n\\n\\t\\t\\t\\t\\t\\t\\tআপডেট...</td>\n",
              "      <td>Real</td>\n",
              "    </tr>\n",
              "  </tbody>\n",
              "</table>\n",
              "</div>"
            ],
            "text/plain": [
              "                                               Title  ... Class\n",
              "0     এক দিনে করোনায় মৃত্যু ১৫ জনের, নতুন শনাক্ত ২৬৬  ...  Real\n",
              "1            কোভিড-১৯-এর কাছে মানবজাতি হেরে গেল কেন?  ...  Real\n",
              "2                                সত্যিকারের ম্যাজিক!  ...  Real\n",
              "3                                   এই সঙ্গনিরোধকালে  ...  Real\n",
              "4                           কী করছেন ঘরবন্দী লেখকেরা  ...  Real\n",
              "5      স্বাস্থ্যব্যবস্থা নতুন করে সাজানোর বিকল্প নেই  ...  Real\n",
              "6            করোনায় পরিবারকে সবচেয়ে বড় ‘উপহারটি’ দিন  ...  Real\n",
              "7    তরুণদের জন্য ‘অ্যাক্ট কোভিড-১৯’ অনলাইন হ্যাকাথন  ...  Real\n",
              "8  বিশেষ চাহিদাসম্পন্ন সন্তান ও অভিভাবকদের ভোগান্...  ...  Real\n",
              "9       অভিযোগ শুনতে সীতাকুণ্ড থানায় অভিনব ব্যবস্থা  ...  Real\n",
              "\n",
              "[10 rows x 6 columns]"
            ]
          },
          "metadata": {
            "tags": []
          },
          "execution_count": 29
        }
      ]
    },
    {
      "cell_type": "code",
      "metadata": {
        "colab": {
          "base_uri": "https://localhost:8080/",
          "height": 289
        },
        "id": "2IqPuMr3JAZZ",
        "outputId": "4fab05dd-131f-4565-8503-5db2be23c1a7"
      },
      "source": [
        "data = data.drop(['Source','Date'], axis=1)\n",
        "data.head(5)"
      ],
      "execution_count": null,
      "outputs": [
        {
          "output_type": "execute_result",
          "data": {
            "text/html": [
              "<div>\n",
              "<style scoped>\n",
              "    .dataframe tbody tr th:only-of-type {\n",
              "        vertical-align: middle;\n",
              "    }\n",
              "\n",
              "    .dataframe tbody tr th {\n",
              "        vertical-align: top;\n",
              "    }\n",
              "\n",
              "    .dataframe thead th {\n",
              "        text-align: right;\n",
              "    }\n",
              "</style>\n",
              "<table border=\"1\" class=\"dataframe\">\n",
              "  <thead>\n",
              "    <tr style=\"text-align: right;\">\n",
              "      <th></th>\n",
              "      <th>Title</th>\n",
              "      <th>Statement</th>\n",
              "      <th>Category</th>\n",
              "      <th>Class</th>\n",
              "    </tr>\n",
              "  </thead>\n",
              "  <tbody>\n",
              "    <tr>\n",
              "      <th>0</th>\n",
              "      <td>এক দিনে করোনায় মৃত্যু ১৫ জনের, নতুন শনাক্ত ২৬৬</td>\n",
              "      <td>\\n\\nদেশে করোনাভাইরাসে আক্রান্ত হয়ে গত ২৪ ঘণ্টা...</td>\n",
              "      <td>বাংলাদেশ সংবাদ</td>\n",
              "      <td>Real</td>\n",
              "    </tr>\n",
              "    <tr>\n",
              "      <th>1</th>\n",
              "      <td>কোভিড-১৯-এর কাছে মানবজাতি হেরে গেল কেন?</td>\n",
              "      <td>\\n\\nদ্বিতীয় বিশ্বযুদ্ধের পর থেকে বিশ্বের প্রভু...</td>\n",
              "      <td>অন্য আলো সংবাদ</td>\n",
              "      <td>Real</td>\n",
              "    </tr>\n",
              "    <tr>\n",
              "      <th>2</th>\n",
              "      <td>সত্যিকারের ম্যাজিক!</td>\n",
              "      <td>\\n\\nবাড়ির পাশেই ভিক্টোরিয়া পার্ক, বিকেল হলেই স...</td>\n",
              "      <td>অন্য আলো সংবাদ</td>\n",
              "      <td>Real</td>\n",
              "    </tr>\n",
              "    <tr>\n",
              "      <th>3</th>\n",
              "      <td>এই সঙ্গনিরোধকালে</td>\n",
              "      <td>\\n\\nবাইরে বেরোচ্ছি না বেশ কিছুদিন ধরে। বলা ভাল...</td>\n",
              "      <td>অন্য আলো সংবাদ</td>\n",
              "      <td>Real</td>\n",
              "    </tr>\n",
              "    <tr>\n",
              "      <th>4</th>\n",
              "      <td>কী করছেন ঘরবন্দী লেখকেরা</td>\n",
              "      <td>\\n\\nসবার মতো লেখকেরাও এখন ঘরবন্দী। লেখকদের এই ...</td>\n",
              "      <td>অন্য আলো সংবাদ</td>\n",
              "      <td>Real</td>\n",
              "    </tr>\n",
              "  </tbody>\n",
              "</table>\n",
              "</div>"
            ],
            "text/plain": [
              "                                            Title  ... Class\n",
              "0  এক দিনে করোনায় মৃত্যু ১৫ জনের, নতুন শনাক্ত ২৬৬  ...  Real\n",
              "1         কোভিড-১৯-এর কাছে মানবজাতি হেরে গেল কেন?  ...  Real\n",
              "2                             সত্যিকারের ম্যাজিক!  ...  Real\n",
              "3                                এই সঙ্গনিরোধকালে  ...  Real\n",
              "4                        কী করছেন ঘরবন্দী লেখকেরা  ...  Real\n",
              "\n",
              "[5 rows x 4 columns]"
            ]
          },
          "metadata": {
            "tags": []
          },
          "execution_count": 8
        }
      ]
    },
    {
      "cell_type": "markdown",
      "metadata": {
        "id": "h7ilHHdXLWsz"
      },
      "source": [
        "#Data Preprocessing"
      ]
    },
    {
      "cell_type": "markdown",
      "metadata": {
        "id": "GYLYa2ndJRjJ"
      },
      "source": [
        "**Converting Categorical Label to Numerical**"
      ]
    },
    {
      "cell_type": "code",
      "metadata": {
        "colab": {
          "base_uri": "https://localhost:8080/"
        },
        "id": "JAxuDS9hJcZo",
        "outputId": "abe68e78-488e-41e7-9689-bb4f46051fde"
      },
      "source": [
        "data['Category'].value_counts()\n",
        "data['Class'].unique()"
      ],
      "execution_count": null,
      "outputs": [
        {
          "output_type": "execute_result",
          "data": {
            "text/plain": [
              "array(['Real', 'Fake'], dtype=object)"
            ]
          },
          "metadata": {
            "tags": []
          },
          "execution_count": 9
        }
      ]
    },
    {
      "cell_type": "code",
      "metadata": {
        "colab": {
          "base_uri": "https://localhost:8080/"
        },
        "id": "BsBnKtC5Jg_n",
        "outputId": "1d43652a-6727-4691-929d-d0626a47930e"
      },
      "source": [
        "data['Class'] = data['Class'].astype('category').cat.codes\n",
        "data['Class'].value_counts()"
      ],
      "execution_count": null,
      "outputs": [
        {
          "output_type": "execute_result",
          "data": {
            "text/plain": [
              "1    1548\n",
              "0     993\n",
              "Name: Class, dtype: int64"
            ]
          },
          "metadata": {
            "tags": []
          },
          "execution_count": 10
        }
      ]
    },
    {
      "cell_type": "code",
      "metadata": {
        "colab": {
          "base_uri": "https://localhost:8080/"
        },
        "id": "X7JckpiGKFrO",
        "outputId": "75455b90-c14f-4518-8e57-b70e7769fd99"
      },
      "source": [
        "data.isnull().sum()"
      ],
      "execution_count": null,
      "outputs": [
        {
          "output_type": "execute_result",
          "data": {
            "text/plain": [
              "Title        0\n",
              "Statement    0\n",
              "Category     0\n",
              "Class        0\n",
              "dtype: int64"
            ]
          },
          "metadata": {
            "tags": []
          },
          "execution_count": 11
        }
      ]
    },
    {
      "cell_type": "code",
      "metadata": {
        "colab": {
          "base_uri": "https://localhost:8080/"
        },
        "id": "JNVQvMJjKfl3",
        "outputId": "e78c76db-9abf-4892-a529-e3bd3bd99bf8"
      },
      "source": [
        "dup = data[data.duplicated(['Statement'])]\n",
        "print(dup.shape)\n",
        "print(data.shape)"
      ],
      "execution_count": null,
      "outputs": [
        {
          "output_type": "stream",
          "text": [
            "(70, 4)\n",
            "(2541, 4)\n"
          ],
          "name": "stdout"
        }
      ]
    },
    {
      "cell_type": "code",
      "metadata": {
        "colab": {
          "base_uri": "https://localhost:8080/"
        },
        "id": "ntQ0ryIWKpqy",
        "outputId": "995b1037-4406-4971-df17-8a9ce3e6e264"
      },
      "source": [
        "data = data.drop_duplicates(['Statement'])\n",
        "print(data.shape)"
      ],
      "execution_count": null,
      "outputs": [
        {
          "output_type": "stream",
          "text": [
            "(2471, 4)\n"
          ],
          "name": "stdout"
        }
      ]
    },
    {
      "cell_type": "code",
      "metadata": {
        "colab": {
          "base_uri": "https://localhost:8080/",
          "height": 352
        },
        "id": "zMCtkqdXLHIW",
        "outputId": "f66522f2-93e3-4c00-aa4b-896bb78362f9"
      },
      "source": [
        "sns.countplot(data['Class'])"
      ],
      "execution_count": null,
      "outputs": [
        {
          "output_type": "stream",
          "text": [
            "/usr/local/lib/python3.7/dist-packages/seaborn/_decorators.py:43: FutureWarning: Pass the following variable as a keyword arg: x. From version 0.12, the only valid positional argument will be `data`, and passing other arguments without an explicit keyword will result in an error or misinterpretation.\n",
            "  FutureWarning\n"
          ],
          "name": "stderr"
        },
        {
          "output_type": "execute_result",
          "data": {
            "text/plain": [
              "<matplotlib.axes._subplots.AxesSubplot at 0x7f9948f8d510>"
            ]
          },
          "metadata": {
            "tags": []
          },
          "execution_count": 14
        },
        {
          "output_type": "display_data",
          "data": {
            "image/png": "[encoded data removed]",
            "text/plain": [
              "<Figure size 432x288 with 1 Axes>"
            ]
          },
          "metadata": {
            "tags": [],
            "needs_background": "light"
          }
        }
      ]
    },
    {
      "cell_type": "markdown",
      "metadata": {
        "id": "z3zZMXATMSQ-"
      },
      "source": [
        "#Defining independent and dependent variable"
      ]
    },
    {
      "cell_type": "code",
      "metadata": {
        "id": "vqcwcTY0MS1a"
      },
      "source": [
        "x = data['Statement']\n",
        "y = data['Class']\n",
        "#print(x.shape)\n",
        "#print(y.shape)"
      ],
      "execution_count": null,
      "outputs": []
    },
    {
      "cell_type": "markdown",
      "metadata": {
        "id": "gjPH35mVM0JT"
      },
      "source": [
        "#Regular Expression"
      ]
    },
    {
      "cell_type": "code",
      "metadata": {
        "colab": {
          "base_uri": "https://localhost:8080/"
        },
        "id": "yS85UgfpMzO6",
        "outputId": "d8787aa3-666a-48d8-bda6-e51d908f85f7"
      },
      "source": [
        "def clean(text):\n",
        "    text = re.sub('[%s]' % re.escape(punctuations), '', text)\n",
        "    text = re.sub('\\n', '', text)\n",
        "    text = re.sub('\\w*\\d\\w*', '', text)\n",
        "    text = re.sub('\\xa0', '', text)\n",
        "    \n",
        "    return text\n",
        "\n",
        "cleaned_text = x.apply(lambda x: clean(str(x)))\n",
        "cleaned_text"
      ],
      "execution_count": null,
      "outputs": [
        {
          "output_type": "execute_result",
          "data": {
            "text/plain": [
              "0       দেশে করোনাভাইরাসে আক্রান্ত হয়ে গত  ঘণ্টায়  জন ...\n",
              "1       দ্বিতীয় বিশ্বযুদ্ধের পর থেকে বিশ্বের প্রভু হয়ে...\n",
              "2       বাড়ির পাশেই ভিক্টোরিয়া পার্ক বিকেল হলেই সেখানে...\n",
              "3       বাইরে বেরোচ্ছি না বেশ কিছুদিন ধরে বলা ভালো বের...\n",
              "4       সবার মতো লেখকেরাও এখন ঘরবন্দী লেখকদের এই ঘরবন্...\n",
              "                              ...                        \n",
              "2528    এবার রাজধানীতে ঘটলো আরেকটি চাঞ্চল্যকর হত্যাকান...\n",
              "2529    অবশেষে বেরিয়ে এলো শফিক রেহমানের থলের বেড়াল স...\n",
              "2530    ছোটকাল থেকে আমি আপনার ভক্ত আমার জীবনে একটাই চা...\n",
              "2535    এবার বাটে পেয়ে মুশফিকুর রহিমকে মেরে হাত পা ভে...\n",
              "2540    এবার প্রকাশ্যে কলা খাওয়া নিষিদ্ধ হতে যাচ্ছে ম...\n",
              "Name: Statement, Length: 2471, dtype: object"
            ]
          },
          "metadata": {
            "tags": []
          },
          "execution_count": 16
        }
      ]
    },
    {
      "cell_type": "markdown",
      "metadata": {
        "id": "zi2-OSIiNemF"
      },
      "source": [
        "#Applying TF_IDF"
      ]
    },
    {
      "cell_type": "code",
      "metadata": {
        "colab": {
          "base_uri": "https://localhost:8080/"
        },
        "id": "SfFggBncNi9W",
        "outputId": "8f613d48-9b18-4ebe-868d-e64fa90c3627"
      },
      "source": [
        "vector=TfidfVectorizer(use_idf=True,stop_words=stopwords, ngram_range=(1, 1))\n",
        "vector.fit(x)\n",
        "statement_tokenized = vector.fit_transform(x)\n",
        "statement_tokenized.shape"
      ],
      "execution_count": null,
      "outputs": [
        {
          "output_type": "stream",
          "text": [
            "/usr/local/lib/python3.7/dist-packages/sklearn/feature_extraction/text.py:385: UserWarning: Your stop_words may be inconsistent with your preprocessing. Tokenizing the stop words generated tokens ['অথব', 'অন', 'অবধ', 'অবশ', 'অর', 'আগ', 'আছ', 'আদ', 'আপন', 'আব', 'আম', 'আমর', 'ইত', 'ইহ', 'উই', 'উক', 'উচ', 'উত', 'উন', 'এক', 'একট', 'একব', 'এখ', 'এট', 'এতট', 'এদ', 'এমনক', 'ওক', 'ওখ', 'ওদ', 'ওয', 'ওয়', 'কট', 'কব', 'কমন', 'কয', 'কর', 'করছ', 'করত', 'করব', 'করল', 'কয়', 'খত', 'চল', 'জনক', 'তথ', 'তব', 'তর', 'থম', 'ধর', 'নঐ', 'নও', 'নজন', 'নত', 'নয', 'পক', 'পষ', 'ফল', 'বক', 'বদল', 'বয', 'বর', 'বল', 'বলত', 'বস', 'বহ', 'মত', 'মধ', 'মন', 'যওজ', 'যতট', 'যথ', 'যদ', 'যন', 'যবহ', 'যভ', 'যম', 'রও', 'রণ', 'রত', 'রথম', 'রপর', 'রভ', 'রয', 'রযন', 'লক', 'ষয', 'সঙ', 'সম', 'সমস', 'হইত', 'হইব', 'হইয', 'হওয', 'হচ', 'হব', 'হয'] not in stop_words.\n",
            "  'stop_words.' % sorted(inconsistent))\n"
          ],
          "name": "stderr"
        },
        {
          "output_type": "execute_result",
          "data": {
            "text/plain": [
              "(2471, 7895)"
            ]
          },
          "metadata": {
            "tags": []
          },
          "execution_count": 30
        }
      ]
    },
    {
      "cell_type": "markdown",
      "metadata": {
        "id": "mcj5lXjdNvjj"
      },
      "source": [
        "#Dataset Splitting"
      ]
    },
    {
      "cell_type": "code",
      "metadata": {
        "colab": {
          "base_uri": "https://localhost:8080/"
        },
        "id": "cA_hF8Q-Nxh6",
        "outputId": "ecd114ce-d36f-4c91-ebb2-ce3c8356f6d9"
      },
      "source": [
        "x_train, x_test, y_train, y_test = train_test_split(statement_tokenized, y, random_state=4,test_size=0.2)\n",
        "x_val_train, x_val_test, y_val_train, y_val_test = train_test_split(x_train, y_train , random_state=4,test_size=0.12)\n",
        "print(x_train.shape)  # 80% Train set\n",
        "print(x_test.shape)   # 20% Test set\n",
        "print(x_val_train.shape)  # 70% Train_val set\n",
        "print(x_val_test.shape)     # 10% Test_val set\n",
        "\n",
        "#print(type(x_val_train))"
      ],
      "execution_count": null,
      "outputs": [
        {
          "output_type": "stream",
          "text": [
            "(1976, 7895)\n",
            "(495, 7895)\n",
            "(1738, 7895)\n",
            "(238, 7895)\n"
          ],
          "name": "stdout"
        }
      ]
    },
    {
      "cell_type": "markdown",
      "metadata": {
        "id": "4jKCkLRROlDl"
      },
      "source": [
        "#MNB model testing "
      ]
    },
    {
      "cell_type": "markdown",
      "metadata": {
        "id": "cYtZJ7J2O6Y7"
      },
      "source": [
        "**Validation Set**"
      ]
    },
    {
      "cell_type": "code",
      "metadata": {
        "colab": {
          "base_uri": "https://localhost:8080/"
        },
        "id": "a6H8XEA0Oozs",
        "outputId": "a6ef2e1c-6e05-47eb-926b-e23daa347bea"
      },
      "source": [
        "MNB = naive_bayes.MultinomialNB()\n",
        "\n",
        "model1=MNB.fit(x_val_train, y_val_train)\n",
        "\n",
        "m1 = model1.predict(x_val_test)\n",
        "\n",
        "a1 = accuracy_score(y_val_test, m1)\n",
        "print(\"Accuracy :\", a1)\n",
        "\n",
        "ms_f1 = f1_score(y_val_test, m1)\n",
        "print(\"F1 :\", ms_f1)"
      ],
      "execution_count": null,
      "outputs": [
        {
          "output_type": "stream",
          "text": [
            "Accuracy : 0.9369747899159664\n",
            "F1 : 0.9508196721311475\n"
          ],
          "name": "stdout"
        }
      ]
    },
    {
      "cell_type": "markdown",
      "metadata": {
        "id": "3z_7ufYYe6J1"
      },
      "source": [
        "**Confusion Matrix**"
      ]
    },
    {
      "cell_type": "code",
      "metadata": {
        "colab": {
          "base_uri": "https://localhost:8080/",
          "height": 329
        },
        "id": "85Jv6FzrW1wM",
        "outputId": "7b7d8857-94c0-4b09-c86f-93347b824232"
      },
      "source": [
        "from sklearn.metrics import confusion_matrix\n",
        "\n",
        "cm = metrics.confusion_matrix(y_val_test, m1)\n",
        "plot_confusion_matrix(cm, classes=['FAKE', 'REAL'],extention='on Validation Set')"
      ],
      "execution_count": null,
      "outputs": [
        {
          "output_type": "stream",
          "text": [
            "Confusion matrix, without normalization\n"
          ],
          "name": "stdout"
        },
        {
          "output_type": "display_data",
          "data": {
            "image/png": "[encoded data removed]",
            "text/plain": [
              "<Figure size 432x288 with 2 Axes>"
            ]
          },
          "metadata": {
            "tags": [],
            "needs_background": "light"
          }
        }
      ]
    },
    {
      "cell_type": "markdown",
      "metadata": {
        "id": "oajDPg3HPetr"
      },
      "source": [
        "**Test Set**"
      ]
    },
    {
      "cell_type": "code",
      "metadata": {
        "colab": {
          "base_uri": "https://localhost:8080/"
        },
        "id": "x2p_1jzSPpIP",
        "outputId": "6f475fad-5186-4684-f630-962362193534"
      },
      "source": [
        "m1 = model1.predict(x_test)\n",
        "\n",
        "a1 = accuracy_score(y_test, m1)\n",
        "print(\"Accuracy :\", a1)\n",
        "\n",
        "ms_f1 = f1_score(y_test, m1)\n",
        "print(\"F1 :\", ms_f1)"
      ],
      "execution_count": null,
      "outputs": [
        {
          "output_type": "stream",
          "text": [
            "Accuracy : 0.9353535353535354\n",
            "F1 : 0.9520958083832335\n"
          ],
          "name": "stdout"
        }
      ]
    },
    {
      "cell_type": "code",
      "metadata": {
        "colab": {
          "base_uri": "https://localhost:8080/",
          "height": 329
        },
        "id": "T1e69IT3f2jY",
        "outputId": "60223be0-5e2d-47b4-e994-05b553503d44"
      },
      "source": [
        "cm = metrics.confusion_matrix(y_test, m1)\n",
        "plot_confusion_matrix(cm, classes=['FAKE', 'REAL'],extention='on Test Set')"
      ],
      "execution_count": null,
      "outputs": [
        {
          "output_type": "stream",
          "text": [
            "Confusion matrix, without normalization\n"
          ],
          "name": "stdout"
        },
        {
          "output_type": "display_data",
          "data": {
            "image/png": "[encoded data removed]",
            "text/plain": [
              "<Figure size 432x288 with 2 Axes>"
            ]
          },
          "metadata": {
            "tags": [],
            "needs_background": "light"
          }
        }
      ]
    },
    {
      "cell_type": "markdown",
      "metadata": {
        "id": "G9w4rP9QgNim"
      },
      "source": [
        "#SVM model testing "
      ]
    },
    {
      "cell_type": "markdown",
      "metadata": {
        "id": "y_yxayKRkDE1"
      },
      "source": [
        "**Finding best \"C\" and \"gamma\" value**"
      ]
    },
    {
      "cell_type": "code",
      "metadata": {
        "colab": {
          "base_uri": "https://localhost:8080/"
        },
        "id": "fZHF6LLXiXv3",
        "outputId": "61353ae6-a3d4-4867-afd0-ddc85d4eeab9"
      },
      "source": [
        "C_list = [0.1, 1, 10, 100]\n",
        "gamma_list = [0.001, 0.01, 0.1, 1]\n",
        "\n",
        "\n",
        "\n",
        "best_acc = -np.inf\n",
        "\n",
        "for C in C_list:\n",
        "  for gamma in gamma_list:\n",
        "    svm_test = SVC(C=C, gamma=gamma)\n",
        "    svm_test.fit(x_val_train, y_val_train)\n",
        "    predictions = svm_test.predict(x_val_test)\n",
        "    acc = accuracy_score(y_val_test, predictions)\n",
        "    if acc > best_acc:\n",
        "      best_acc = acc\n",
        "      best_C = C\n",
        "      best_gamma = gamma\n",
        "\n",
        "print(best_acc)\n",
        "print(best_C)\n",
        "print(best_gamma)"
      ],
      "execution_count": null,
      "outputs": [
        {
          "output_type": "stream",
          "text": [
            "0.9789915966386554\n",
            "10\n",
            "0.1\n"
          ],
          "name": "stdout"
        }
      ]
    },
    {
      "cell_type": "markdown",
      "metadata": {
        "id": "piajrYSZkL0p"
      },
      "source": [
        "**Training SVM**"
      ]
    },
    {
      "cell_type": "code",
      "metadata": {
        "colab": {
          "base_uri": "https://localhost:8080/"
        },
        "id": "6V6beN1siE-2",
        "outputId": "4c3f378a-d77b-4a45-8e72-1b02ef7bf9b3"
      },
      "source": [
        "svm = SVC(C=best_C, kernel='linear', gamma=best_gamma)\n",
        "svm.fit(x_train, y_train)"
      ],
      "execution_count": null,
      "outputs": [
        {
          "output_type": "execute_result",
          "data": {
            "text/plain": [
              "SVC(C=10, break_ties=False, cache_size=200, class_weight=None, coef0=0.0,\n",
              "    decision_function_shape='ovr', degree=3, gamma=0.1, kernel='linear',\n",
              "    max_iter=-1, probability=False, random_state=None, shrinking=True,\n",
              "    tol=0.001, verbose=False)"
            ]
          },
          "metadata": {
            "tags": []
          },
          "execution_count": 26
        }
      ]
    },
    {
      "cell_type": "code",
      "metadata": {
        "colab": {
          "base_uri": "https://localhost:8080/"
        },
        "id": "4iftL5PRj-L7",
        "outputId": "a54ccf2a-03c9-4af8-e7f9-0d7d2201dc7f"
      },
      "source": [
        "m2 = svm.predict(x_test)\n",
        "\n",
        "a2 = accuracy_score(y_test, m2)\n",
        "print(\"Accuracy :\", a2)\n",
        "\n",
        "ms_f3 = f1_score(y_test, m2)\n",
        "print(\"F1 :\", ms_f3)"
      ],
      "execution_count": null,
      "outputs": [
        {
          "output_type": "stream",
          "text": [
            "Accuracy : 0.9777777777777777\n",
            "F1 : 0.9828926905132193\n"
          ],
          "name": "stdout"
        }
      ]
    },
    {
      "cell_type": "code",
      "metadata": {
        "id": "1vl-ayu4mQ6O",
        "colab": {
          "base_uri": "https://localhost:8080/",
          "height": 329
        },
        "outputId": "ae5110a2-cf27-4100-9531-9c78d622d33c"
      },
      "source": [
        "cm = metrics.confusion_matrix(y_test, m2)\n",
        "plot_confusion_matrix(cm, classes=['FAKE', 'REAL'],extention='on Training Set')"
      ],
      "execution_count": null,
      "outputs": [
        {
          "output_type": "stream",
          "text": [
            "Confusion matrix, without normalization\n"
          ],
          "name": "stdout"
        },
        {
          "output_type": "display_data",
          "data": {
            "image/png": "[encoded data removed]",
            "text/plain": [
              "<Figure size 432x288 with 2 Axes>"
            ]
          },
          "metadata": {
            "tags": [],
            "needs_background": "light"
          }
        }
      ]
    },
    {
      "cell_type": "markdown",
      "metadata": {
        "id": "AUrgrATdmSCG"
      },
      "source": [
        "#**Test Set(IF needed-OPTIONAL)**"
      ]
    },
    {
      "cell_type": "code",
      "metadata": {
        "id": "U9-aANc3mYAC"
      },
      "source": [
        "m2 = svm.predict(x_test)\n",
        "\n",
        "a1 = accuracy_score(y_test, m2)\n",
        "print(\"Accuracy :\", a1)\n",
        "\n",
        "ms_f3 = f1_score(y_test, m2)\n",
        "print(\"F1 :\", ms_f3)"
      ],
      "execution_count": null,
      "outputs": []
    },
    {
      "cell_type": "code",
      "metadata": {
        "id": "E66Bu7Btmoee"
      },
      "source": [
        "cm = metrics.confusion_matrix(y_test, m2)\n",
        "plot_confusion_matrix(cm, classes=['FAKE', 'REAL'],extention='on Test Set')"
      ],
      "execution_count": null,
      "outputs": []
    }
  ]
}